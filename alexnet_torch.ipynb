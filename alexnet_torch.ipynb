{
 "cells": [
  {
   "cell_type": "code",
   "execution_count": 10,
   "metadata": {},
   "outputs": [],
   "source": [
    "import torch\n",
    "import torch.nn as nn\n",
    "import numpy as np \n",
    "import torch \n",
    "import torch.nn as nn\n",
    "import os \n",
    "import glob\n",
    "from PIL import Image\n",
    "import torch.utils.data as data\n",
    "from torchvision import models, transforms as T\n",
    "from tqdm import tqdm_notebook\n",
    "from torchvision import transforms, datasets\n",
    "import torch.optim as optim\n",
    "import time"
   ]
  },
  {
   "attachments": {},
   "cell_type": "markdown",
   "metadata": {},
   "source": [
    "### Implementation of AlexNet\n",
    "# ![title](AlexNet-architecture-Includes-5-convolutional-layers-and-3-fullyconnected-layers.png)"
   ]
  },
  {
   "cell_type": "code",
   "execution_count": 74,
   "metadata": {},
   "outputs": [],
   "source": [
    "class AlexNet(nn.Module):\n",
    "    def __init__(self) -> None:\n",
    "        super().__init__()\n",
    "        self.conv1=nn.Conv2d(in_channels=3,out_channels=96,kernel_size=11,stride=4,padding=0)\n",
    "        self.relu=nn.ReLU(inplace=True)\n",
    "        self.conv2=nn.Conv2d(in_channels=96,out_channels=256,kernel_size=5,padding=2)\n",
    "        self.pool=nn.MaxPool2d(kernel_size=3,stride=2)\n",
    "        self.conv3=nn.Conv2d(in_channels=256,out_channels=384,kernel_size=3,padding=1)\n",
    "        ### another pooling layer 27--->13\n",
    "        self.conv4=nn.Conv2d(in_channels=384,out_channels=384,kernel_size=3,padding=1)\n",
    "        self.conv5=nn.Conv2d(in_channels=384,out_channels=256,kernel_size=3,padding=1)\n",
    "        #### another pooling before the maxpooling 13 --> 6\n",
    "        self.do1 = nn.Dropout(0.5)   \n",
    "        self.fc1=nn.Linear(256*6*6,4096)\n",
    "        self.do2 = nn.Dropout(0.5)\n",
    "        self.fc2=nn.Linear(4096,4096)\n",
    "        self.do3 = nn.Dropout(0.5)\n",
    "        ### For IntelImage https://www.kaggle.com/datasets/puneet6060/intel-image-classification  -- so final layer has 6\n",
    "        self.fc3=nn.Linear(4096,6)\n",
    "    \n",
    "    def forward(self,x):\n",
    "        x=self.relu(self.conv1(x))\n",
    "        x=self.relu(self.pool(self.conv2(x)))\n",
    "        x=self.relu(self.pool(self.conv3(x)))\n",
    "        x=self.relu(self.conv4(x))\n",
    "        x=self.relu(self.pool(self.conv5(x)))\n",
    "        x = torch.flatten(x, 1)\n",
    "        x=self.relu(self.fc1(x))\n",
    "        x=self.relu(self.fc2(x))\n",
    "        x=self.fc3(x)\n",
    "        return x\n",
    "        \n",
    "        \n",
    "        "
   ]
  },
  {
   "cell_type": "code",
   "execution_count": 44,
   "metadata": {},
   "outputs": [],
   "source": [
    "model=AlexNet()"
   ]
  },
  {
   "cell_type": "code",
   "execution_count": 45,
   "metadata": {},
   "outputs": [
    {
     "data": {
      "text/plain": [
       "AlexNet(\n",
       "  (conv1): Conv2d(3, 96, kernel_size=(11, 11), stride=(4, 4))\n",
       "  (relu): ReLU(inplace=True)\n",
       "  (conv2): Conv2d(96, 256, kernel_size=(5, 5), stride=(1, 1), padding=(2, 2))\n",
       "  (pool): MaxPool2d(kernel_size=2, stride=2, padding=0, dilation=1, ceil_mode=False)\n",
       "  (conv3): Conv2d(256, 384, kernel_size=(3, 3), stride=(1, 1), padding=(1, 1))\n",
       "  (conv4): Conv2d(384, 384, kernel_size=(3, 3), stride=(1, 1), padding=(1, 1))\n",
       "  (conv5): Conv2d(384, 256, kernel_size=(3, 3), stride=(1, 1), padding=(1, 1))\n",
       "  (do1): Dropout(p=0.5, inplace=False)\n",
       "  (fc1): Linear(in_features=9216, out_features=4096, bias=True)\n",
       "  (do2): Dropout(p=0.5, inplace=False)\n",
       "  (fc2): Linear(in_features=4096, out_features=4096, bias=True)\n",
       "  (do3): Dropout(p=0.5, inplace=False)\n",
       "  (fc3): Linear(in_features=4096, out_features=6, bias=True)\n",
       ")"
      ]
     },
     "execution_count": 45,
     "metadata": {},
     "output_type": "execute_result"
    }
   ],
   "source": [
    "model"
   ]
  },
  {
   "cell_type": "code",
   "execution_count": 46,
   "metadata": {},
   "outputs": [],
   "source": [
    "train_data_dir = 'D:\\\\fastai\\Beginning\\pytorch\\Chapters\\Classification\\seg_train\\seg_train'\n",
    "test_data_dir = 'D:\\\\fastai\\Beginning\\pytorch\\Chapters\\Classification\\seg_test\\seg_test'\n",
    "batch_size=32\n"
   ]
  },
  {
   "cell_type": "code",
   "execution_count": 47,
   "metadata": {},
   "outputs": [],
   "source": [
    "device = torch.device(\"cuda:0\" if torch.cuda.is_available() else \"cpu\")"
   ]
  },
  {
   "cell_type": "code",
   "execution_count": 69,
   "metadata": {},
   "outputs": [],
   "source": [
    "\n",
    "transform = transforms.Compose(\n",
    "    [transforms.Resize([227,227]),\n",
    "     transforms.ToTensor(),\n",
    "    transforms.Normalize(mean=[0.4489, 0.4713, 0.4594], std=[0.2436, 0.2379, 0.2648], inplace=True)\n",
    "    ])\n",
    "\n",
    "train_dataset = datasets.ImageFolder(train_data_dir, \n",
    "                               transform=transform)\n",
    "\n",
    "train_dataloader = data.DataLoader(train_dataset,\n",
    "                                         batch_size=batch_size,\n",
    "                                         shuffle=True,\n",
    "                                         drop_last=True)\n",
    "  \n",
    "test_dataset = datasets.ImageFolder(test_data_dir, \n",
    "                               transform=transform)\n",
    "\n",
    "test_dataloader = data.DataLoader(test_dataset, \n",
    "                                              batch_size=batch_size,\n",
    "                                              shuffle=False,\n",
    "                                              drop_last=True)"
   ]
  },
  {
   "cell_type": "code",
   "execution_count": 70,
   "metadata": {},
   "outputs": [],
   "source": [
    "def batch_mean_and_sd(loader):\n",
    "    \n",
    "    cnt = 0\n",
    "    fst_moment = torch.empty(3)\n",
    "    snd_moment = torch.empty(3)\n",
    "\n",
    "    for images, _ in loader:\n",
    "        b, c, h, w = images.shape\n",
    "        nb_pixels = b * h * w\n",
    "        sum_ = torch.sum(images, dim=[0, 2, 3])\n",
    "        sum_of_square = torch.sum(images ** 2,\n",
    "                                  dim=[0, 2, 3])\n",
    "        fst_moment = (cnt * fst_moment + sum_) / (\n",
    "                      cnt + nb_pixels)\n",
    "        snd_moment = (cnt * snd_moment + sum_of_square) / (\n",
    "                            cnt + nb_pixels)\n",
    "        cnt += nb_pixels\n",
    "\n",
    "    mean, std = fst_moment, torch.sqrt(\n",
    "      snd_moment - fst_moment ** 2)        \n",
    "    return mean,std"
   ]
  },
  {
   "cell_type": "code",
   "execution_count": 50,
   "metadata": {},
   "outputs": [],
   "source": [
    "mean, std = batch_mean_and_sd(train_dataloader)"
   ]
  },
  {
   "cell_type": "code",
   "execution_count": 51,
   "metadata": {},
   "outputs": [
    {
     "data": {
      "text/plain": [
       "(tensor([-2.6859e-05,  1.2928e-05,  2.3778e-04]),\n",
       " tensor([1.0000, 0.9999, 1.0000]))"
      ]
     },
     "execution_count": 51,
     "metadata": {},
     "output_type": "execute_result"
    }
   ],
   "source": [
    "mean,std"
   ]
  },
  {
   "cell_type": "code",
   "execution_count": 87,
   "metadata": {},
   "outputs": [],
   "source": [
    "model = AlexNet()\n",
    "\n",
    "if torch.cuda.is_available():\n",
    "    model.cuda()\n",
    "        \n",
    "epochs = 20\n",
    "criterion = nn.CrossEntropyLoss()\n",
    "optimizer = optim.SGD(model.parameters(), lr=0.01)\n",
    "train_losses = []\n",
    "test_losses =[]\n",
    "test_accuracy = []"
   ]
  },
  {
   "cell_type": "code",
   "execution_count": 89,
   "metadata": {},
   "outputs": [
    {
     "name": "stdout",
     "output_type": "stream",
     "text": [
      "Epoch: 1/10.. Training loss: 1.6710090322853768.. Validation Loss: 1.3411654060886753\n",
      "Epoch: 2/10.. Training loss: 1.1236276509554963.. Validation Loss: 1.0337562913535743\n",
      "Epoch: 3/10.. Training loss: 1.0181729496886196.. Validation Loss: 0.9342211725250367\n",
      "Epoch: 4/10.. Training loss: 0.9456320194076729.. Validation Loss: 0.9137428752196732\n",
      "Epoch: 5/10.. Training loss: 0.8870949682579737.. Validation Loss: 0.8611683488212606\n",
      "Epoch: 6/10.. Training loss: 0.8470055818829907.. Validation Loss: 0.9544979397968579\n",
      "Epoch: 7/10.. Training loss: 0.7985458267878179.. Validation Loss: 0.7637127218067005\n",
      "Epoch: 8/10.. Training loss: 0.7299161916726256.. Validation Loss: 0.7378473706463332\n",
      "Epoch: 9/10.. Training loss: 0.6800540484249864.. Validation Loss: 0.7914672280030866\n",
      "Epoch: 10/10.. Training loss: 0.6363267878147021.. Validation Loss: 0.7282481727500757\n"
     ]
    }
   ],
   "source": [
    "n_epochs = 10\n",
    "for epoch in range(n_epochs):\n",
    "    model.train()\n",
    "    training_loss = 0\n",
    "    for data, target in train_dataloader:\n",
    "        data, target = data.to(device), target.to(device)\n",
    "\n",
    "        optimizer.zero_grad()\n",
    "        output = model(data)\n",
    "        loss = criterion(output, target)\n",
    "        loss.backward()\n",
    "        optimizer.step()\n",
    "        training_loss += loss.item()\n",
    "\n",
    "    model.eval()\n",
    "    valid_loss = 0\n",
    "    with torch.no_grad():\n",
    "        for data, target in test_dataloader:\n",
    "            data, target = data.to(device), target.to(device)\n",
    "            output = model(data)\n",
    "            loss = criterion(output, target) \n",
    "            valid_loss += loss.item()\n",
    "\n",
    "    training_loss /= len(train_dataloader)\n",
    "    valid_loss /= len(test_dataloader)\n",
    "    print(f'Epoch: {epoch+1}/{n_epochs}.. Training loss: {training_loss}.. Validation Loss: {valid_loss}')"
   ]
  },
  {
   "cell_type": "code",
   "execution_count": 90,
   "metadata": {},
   "outputs": [],
   "source": [
    "def predict(model, batch_size=32, device=device, dataloader=test_dataloader):\n",
    "    classes = ('buildings', 'forest', 'glacier', 'mountain',\n",
    "           'sea', 'street')\n",
    "    \n",
    "    with torch.no_grad():\n",
    "        n_correct = 0\n",
    "        n_samples = 0\n",
    "        n_class_correct = [0 for i in range(6)]\n",
    "        n_class_samples = [0 for i in range(6)]\n",
    "        for images, labels in test_dataloader:\n",
    "            images, labels = images.to(device), labels.to(device)\n",
    "            outputs = model(images)\n",
    "            _, predicted = torch.max(outputs, 1)\n",
    "            n_samples += labels.size(0)\n",
    "            n_correct += (predicted == labels).sum().item()\n",
    "        \n",
    "            for i in range(batch_size):\n",
    "                label = labels[i]\n",
    "                pred = predicted[i]\n",
    "                if (label == pred):\n",
    "                    n_class_correct[label] += 1\n",
    "                n_class_samples[label] += 1\n",
    "\n",
    "        acc = 100.0 * n_correct / n_samples\n",
    "        print(f'Accuracy of the network: {acc} %')\n",
    "\n",
    "        for i in range(6):\n",
    "            acc = 100.0 * n_class_correct[i] / n_class_samples[i]\n",
    "            print(f'Accuracy of {classes[i]}: {acc} %')"
   ]
  },
  {
   "cell_type": "code",
   "execution_count": 91,
   "metadata": {},
   "outputs": [
    {
     "name": "stdout",
     "output_type": "stream",
     "text": [
      "Accuracy of the network: 73.95833333333333 %\n",
      "Accuracy of buildings: 56.52173913043478 %\n",
      "Accuracy of forest: 92.61603375527426 %\n",
      "Accuracy of glacier: 89.5117540687161 %\n",
      "Accuracy of mountain: 68.19047619047619 %\n",
      "Accuracy of sea: 53.72549019607843 %\n",
      "Accuracy of street: 81.34171907756813 %\n"
     ]
    }
   ],
   "source": [
    "model.eval()\n",
    "predict(model)"
   ]
  }
 ],
 "metadata": {
  "kernelspec": {
   "display_name": "coperception",
   "language": "python",
   "name": "python3"
  },
  "language_info": {
   "codemirror_mode": {
    "name": "ipython",
    "version": 3
   },
   "file_extension": ".py",
   "mimetype": "text/x-python",
   "name": "python",
   "nbconvert_exporter": "python",
   "pygments_lexer": "ipython3",
   "version": "3.7.0"
  },
  "orig_nbformat": 4,
  "vscode": {
   "interpreter": {
    "hash": "acdad7ecbcc5252a814e1500803c89173201af87c3a90142fc0c83e1fe568ac6"
   }
  }
 },
 "nbformat": 4,
 "nbformat_minor": 2
}
